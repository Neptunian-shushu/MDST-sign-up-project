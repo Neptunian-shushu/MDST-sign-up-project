{
 "cells": [
  {
   "cell_type": "markdown",
   "metadata": {},
   "source": [
    "# Statistics Challenge (Optional)"
   ]
  },
  {
   "attachments": {},
   "cell_type": "markdown",
   "metadata": {},
   "source": [
    "Use the `orders.csv` dataset in the same directory to complete this challenge.\n",
    "\n",
    "**Background**:\n",
    "\n",
    "There are exactly 100 sneaker shops on a sneaker retailing website, and each of these shops sells only one model of shoe. We want to do some analysis of the average order value (AOV). When we look at orders data over a 30 day window, we naively calculate an AOV of $3145.13. Given that we know these shops are selling sneakers, a relatively affordable item, something seems wrong with our analysis. \n",
    "\n",
    "**Questions**:\n",
    "\n",
    "- What went wrong with this metric (AOV) and the current analysis in general. Support your answers with appropriate visualizations.\n",
    "\n",
    "- Propose a new metric that better represents the behavior of the stores' customers. Why are these metrics better and what are their values?\n",
    "\n",
    "- Using the `created_at` column as a proxy for the date and time of order creation, provide a brief analysis of the trends in the customers' purchasing behavior.\n",
    "\n",
    "Show all of your work in this notebook."
   ]
  }
 ],
 "metadata": {
  "kernelspec": {
   "display_name": "base",
   "language": "python",
   "name": "python3"
  },
  "language_info": {
   "name": "python",
   "version": "3.8.8 (default, Apr 13 2021, 15:08:03) [MSC v.1916 64 bit (AMD64)]"
  },
  "orig_nbformat": 4,
  "vscode": {
   "interpreter": {
    "hash": "d8a9911dd55824de2b9148872b09f5aa97429f0d8598f0eb95e15d199cda6b48"
   }
  }
 },
 "nbformat": 4,
 "nbformat_minor": 2
}
